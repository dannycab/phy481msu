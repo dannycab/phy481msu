{
 "cells": [
  {
   "cell_type": "markdown",
   "metadata": {},
   "source": [
    "# Solving electric field problems numerically\n",
    "\n",
    "One type of problem you will encounter in electrostatics is one where you know the distribution of charge at every point in space (or every point where the sources exist) and you need to determine the electric field everywhere in space (or everywhere you are interested). This can be done using Coulomb's law,\n",
    "\n",
    "$$ \\vec{E} = \\int_V d\\tau\\;\\dfrac{1}{4\\pi\\varepsilon_0}\\dfrac{dq}{|\\mathfrak{\\vec{r}}|^2}\\hat{\\mathfrak{r}}$$\n",
    "\n",
    "This calculation might be difficult to perform for all locations that you are interested in, or it might be downright impossible to solve analytical as no anti-derivative might exist for the function. In this case, using numerical techniques makes the problem tractable.\n",
    "\n",
    "## The concept of numerical integration \n",
    "\n",
    "Typically, when you perform an integral analytically, you are seeking the anti-derivative of the function that you are integrating. This is one productive way to think about an integral. \n",
    "\n",
    "Another productive way to think about integration is adding up small bits. You might think about this when you do a line integral, but this can also be a productive way of thinking about any kind of integral, in particular, numerical integration. To conceptualize a numerical integral where you are trying to determine the electric field it is important to follow these steps:\n",
    "\n",
    "1. Divide the source into chunks ($dq$) and pick a starting chunk\n",
    "2. Determine the separation vector ($\\vec{\\mathfrak{r}}$) between the chunk and the observation location\n",
    "3. Compute the contribution to the total electric field from the chunk ($d\\vec{E}$) - treating it as a point charge of size $dq$\n",
    "4. Add this contribution to the \"running\" total of electric field\n",
    "5. Repeat steps 2-5, which form the basis of numerical integration (it's the superposition of the chunks), until you have added up the contributions of all the chunks\n",
    "\n",
    "In this problem, you will calculate the electric field of line charge numerically (first) at a point along the middle. We do this because you know the analytical function (and thus the value) that describes the electric field at this point, which allows you to check your answer."
   ]
  },
  {
   "cell_type": "markdown",
   "metadata": {},
   "source": [
    "## The ```while``` loop\n",
    "\n",
    "In order to find the electric field, you will need to continue to perform certain calculations (steps 2-4 above) until you have done so for all the chunks. In python, we will often use the ```while``` loop to do such calculations. The ```while``` loop will perform a series of calculations in order until the loop condition is satisfied. Below is a simple example, which prints all the numbers from 0 to 10 in order."
   ]
  },
  {
   "cell_type": "code",
   "execution_count": null,
   "metadata": {
    "collapsed": false
   },
   "outputs": [],
   "source": [
    "j = 0           ## Set the counter to 0\n",
    "\n",
    "while j < 11:   ## Run the commands in the loop until j=11 (i.e., print up to number 10)\n",
    "                ## Notice that the while loop ends with a colon\n",
    "    \n",
    "    print(j)    ## Print the value j; notice the commands in the while loop are idented over 4 spaces\n",
    "                ## Jupyter automatically does the indenting if you use the colon\n",
    "    \n",
    "    j = j + 1   ## Increment (increase) the counter by 1 unit"
   ]
  },
  {
   "cell_type": "markdown",
   "metadata": {},
   "source": [
    "The loop above prints the numbers 0 through 10. Each line in the ```while``` loop is executed in order until the loop condition ```while j < 11:``` is met (i.e., j becomes 11)."
   ]
  },
  {
   "cell_type": "markdown",
   "metadata": {},
   "source": [
    "* Problem and Library set up\n",
    "* Pseudocode\n",
    "* Key aspects: iteration (while loop)\n",
    "* Setup lines\n",
    "* Core code"
   ]
  },
  {
   "cell_type": "markdown",
   "metadata": {},
   "source": [
    "## Determining the electric field of a charged rod numerically\n",
    "\n",
    "You have already calculated (by hand) an approximate value for the charged rod, which demonstrated the numerical "
   ]
  },
  {
   "cell_type": "code",
   "execution_count": 4,
   "metadata": {
    "collapsed": false
   },
   "outputs": [],
   "source": [
    "from __future__ import division\n",
    "from vpython import *"
   ]
  },
  {
   "cell_type": "code",
   "execution_count": 5,
   "metadata": {
    "collapsed": true
   },
   "outputs": [],
   "source": [
    "k = 9e9\n",
    "Q = 0.1e-6\n",
    "L = 1\n",
    "\n",
    "N = 10\n",
    "dq = Q/N\n",
    "\n",
    "EScale = 1e-4"
   ]
  },
  {
   "cell_type": "code",
   "execution_count": 6,
   "metadata": {
    "collapsed": false
   },
   "outputs": [
    {
     "data": {
      "text/html": [
       "<div id=\"glowscript\" class=\"glowscript\"></div>"
      ],
      "text/plain": [
       "<IPython.core.display.HTML object>"
      ]
     },
     "metadata": {},
     "output_type": "display_data"
    },
    {
     "data": {
      "application/javascript": [
       "window.__context = { glowscript_container: $(\"#glowscript\").removeAttr(\"id\")}"
      ],
      "text/plain": [
       "<IPython.core.display.Javascript object>"
      ]
     },
     "metadata": {},
     "output_type": "display_data"
    }
   ],
   "source": [
    "#create the scene\n",
    "scene=canvas(title=\"Electric Field Due to a Uniformly Charged Rod\")\n",
    "rod = cylinder(pos=vector(0,-0.5,0), axis=vector(0,L,0), radius=0.01, color=color.red) \n",
    "\n",
    "Enet = vector(0,0,0)\n",
    "rObs = vector(0.1,0,0)\n",
    "\n",
    "i = 0\n",
    "\n",
    "while i < N:\n",
    "    \n",
    "    rSource = vector(0,L/2-(i+0.5)*L/N,0)\n",
    "    \n",
    "    sourceCharge = sphere(pos=vector(rSource), radius=0.02, color=color.white)\n",
    "    \n",
    "    ### Enter Physics Here\n",
    "    \n",
    "    curlyR = rObs - rSource\n",
    "    dE = k*dq*curlyR/mag(curlyR)**3\n",
    "    \n",
    "    dEArrow = arrow(pos=rObs, axis=EScale*dE, color=color.yellow)\n",
    "    \n",
    "    Enet = Enet + dE\n",
    "    \n",
    "    i=i+1\n",
    "    \n",
    "EnetArrow = arrow(pos=rObs, axis=EScale*Enet, color=color.white)"
   ]
  },
  {
   "cell_type": "code",
   "execution_count": null,
   "metadata": {
    "collapsed": false
   },
   "outputs": [],
   "source": [
    "print(\"The net electric field at point P = \",Enet, \"N/C\")"
   ]
  },
  {
   "cell_type": "code",
   "execution_count": null,
   "metadata": {
    "collapsed": true
   },
   "outputs": [],
   "source": []
  }
 ],
 "metadata": {
  "kernelspec": {
   "display_name": "Python 2",
   "language": "python",
   "name": "python2"
  },
  "language_info": {
   "codemirror_mode": {
    "name": "ipython",
    "version": 2
   },
   "file_extension": ".py",
   "mimetype": "text/x-python",
   "name": "python",
   "nbconvert_exporter": "python",
   "pygments_lexer": "ipython2",
   "version": "2.7.11"
  }
 },
 "nbformat": 4,
 "nbformat_minor": 0
}
